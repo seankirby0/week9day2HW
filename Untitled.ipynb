{
 "cells": [
  {
   "cell_type": "code",
   "execution_count": null,
   "id": "4a5c8081",
   "metadata": {},
   "outputs": [],
   "source": [
    "Write a function that takes a string of parentheses, and determines if the order of the parentheses is valid. \n",
    "The function should return true if the string is valid, and false if it's invalid.\n",
    "\n",
    "Examples\n",
    "\"()\"              =>  true\n",
    "\")(()))\"          =>  false\n",
    "\"(\"               =>  false\n",
    "\"(())((()())())\"  =>  true"
   ]
  },
  {
   "cell_type": "code",
   "execution_count": 15,
   "id": "74970bc3",
   "metadata": {},
   "outputs": [
    {
     "data": {
      "text/plain": [
       "False"
      ]
     },
     "execution_count": 15,
     "metadata": {},
     "output_type": "execute_result"
    }
   ],
   "source": [
    "def validParentheses(string):\n",
    "    p = 0\n",
    "    for i in string:\n",
    "        if i == '(':\n",
    "            p += 1\n",
    "        if i == ')':\n",
    "            p -= 1\n",
    "        if p < 0:\n",
    "            return False\n",
    "    if p == 0:\n",
    "        return True\n",
    "    else:\n",
    "        return False\n",
    "            \n",
    "            \n",
    "validParentheses(\"(\")"
   ]
  }
 ],
 "metadata": {
  "kernelspec": {
   "display_name": "Python 3",
   "language": "python",
   "name": "python3"
  },
  "language_info": {
   "codemirror_mode": {
    "name": "ipython",
    "version": 3
   },
   "file_extension": ".py",
   "mimetype": "text/x-python",
   "name": "python",
   "nbconvert_exporter": "python",
   "pygments_lexer": "ipython3",
   "version": "3.8.8"
  }
 },
 "nbformat": 4,
 "nbformat_minor": 5
}
